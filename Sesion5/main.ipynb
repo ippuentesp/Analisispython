{
 "cells": [
  {
   "cell_type": "code",
   "execution_count": 1,
   "metadata": {},
   "outputs": [],
   "source": [
    "import pandas as pd \n",
    "from utils import connection as con \n"
   ]
  },
  {
   "cell_type": "code",
   "execution_count": 2,
   "metadata": {},
   "outputs": [],
   "source": [
    "conn_retail_db = con.connect_retail_db()\n",
    "conn_dw_retail = con.connect_dw_retail()"
   ]
  },
  {
   "cell_type": "code",
   "execution_count": 3,
   "metadata": {},
   "outputs": [],
   "source": [
    "from etl import extract as ex"
   ]
  },
  {
   "cell_type": "code",
   "execution_count": 4,
   "metadata": {},
   "outputs": [
    {
     "data": {
      "text/html": [
       "<div>\n",
       "<style scoped>\n",
       "    .dataframe tbody tr th:only-of-type {\n",
       "        vertical-align: middle;\n",
       "    }\n",
       "\n",
       "    .dataframe tbody tr th {\n",
       "        vertical-align: top;\n",
       "    }\n",
       "\n",
       "    .dataframe thead th {\n",
       "        text-align: right;\n",
       "    }\n",
       "</style>\n",
       "<table border=\"1\" class=\"dataframe\">\n",
       "  <thead>\n",
       "    <tr style=\"text-align: right;\">\n",
       "      <th></th>\n",
       "      <th>customer_id</th>\n",
       "      <th>customer_fname</th>\n",
       "      <th>customer_lname</th>\n",
       "      <th>customer_email</th>\n",
       "      <th>customer_password</th>\n",
       "      <th>customer_street</th>\n",
       "      <th>customer_city</th>\n",
       "      <th>customer_state</th>\n",
       "      <th>customer_zipcode</th>\n",
       "    </tr>\n",
       "  </thead>\n",
       "  <tbody>\n",
       "    <tr>\n",
       "      <th>0</th>\n",
       "      <td>1</td>\n",
       "      <td>Richard</td>\n",
       "      <td>Hernandez</td>\n",
       "      <td>XXXXXXXXX</td>\n",
       "      <td>XXXXXXXXX</td>\n",
       "      <td>6303 Heather Plaza</td>\n",
       "      <td>Brownsville</td>\n",
       "      <td>TX</td>\n",
       "      <td>78521</td>\n",
       "    </tr>\n",
       "    <tr>\n",
       "      <th>1</th>\n",
       "      <td>2</td>\n",
       "      <td>Mary</td>\n",
       "      <td>Barrett</td>\n",
       "      <td>XXXXXXXXX</td>\n",
       "      <td>XXXXXXXXX</td>\n",
       "      <td>9526 Noble Embers Ridge</td>\n",
       "      <td>Littleton</td>\n",
       "      <td>CO</td>\n",
       "      <td>80126</td>\n",
       "    </tr>\n",
       "    <tr>\n",
       "      <th>2</th>\n",
       "      <td>3</td>\n",
       "      <td>Ann</td>\n",
       "      <td>Smith</td>\n",
       "      <td>XXXXXXXXX</td>\n",
       "      <td>XXXXXXXXX</td>\n",
       "      <td>3422 Blue Pioneer Bend</td>\n",
       "      <td>Caguas</td>\n",
       "      <td>PR</td>\n",
       "      <td>00725</td>\n",
       "    </tr>\n",
       "    <tr>\n",
       "      <th>3</th>\n",
       "      <td>4</td>\n",
       "      <td>Mary</td>\n",
       "      <td>Jones</td>\n",
       "      <td>XXXXXXXXX</td>\n",
       "      <td>XXXXXXXXX</td>\n",
       "      <td>8324 Little Common</td>\n",
       "      <td>San Marcos</td>\n",
       "      <td>CA</td>\n",
       "      <td>92069</td>\n",
       "    </tr>\n",
       "    <tr>\n",
       "      <th>4</th>\n",
       "      <td>5</td>\n",
       "      <td>Robert</td>\n",
       "      <td>Hudson</td>\n",
       "      <td>XXXXXXXXX</td>\n",
       "      <td>XXXXXXXXX</td>\n",
       "      <td>10 Crystal River Mall</td>\n",
       "      <td>Caguas</td>\n",
       "      <td>PR</td>\n",
       "      <td>00725</td>\n",
       "    </tr>\n",
       "  </tbody>\n",
       "</table>\n",
       "</div>"
      ],
      "text/plain": [
       "   customer_id customer_fname customer_lname customer_email customer_password  \\\n",
       "0            1        Richard      Hernandez      XXXXXXXXX         XXXXXXXXX   \n",
       "1            2           Mary        Barrett      XXXXXXXXX         XXXXXXXXX   \n",
       "2            3            Ann          Smith      XXXXXXXXX         XXXXXXXXX   \n",
       "3            4           Mary          Jones      XXXXXXXXX         XXXXXXXXX   \n",
       "4            5         Robert         Hudson      XXXXXXXXX         XXXXXXXXX   \n",
       "\n",
       "           customer_street customer_city customer_state customer_zipcode  \n",
       "0       6303 Heather Plaza   Brownsville             TX            78521  \n",
       "1  9526 Noble Embers Ridge     Littleton             CO            80126  \n",
       "2   3422 Blue Pioneer Bend        Caguas             PR            00725  \n",
       "3       8324 Little Common    San Marcos             CA            92069  \n",
       "4   10 Crystal River Mall         Caguas             PR            00725  "
      ]
     },
     "execution_count": 4,
     "metadata": {},
     "output_type": "execute_result"
    }
   ],
   "source": [
    "df_customers = ex.extract_table(\"customers\", conn_retail_db)\n",
    "df_orders = ex.extract_table(\"orders\", conn_retail_db)\n",
    "df_order_items = ex.extract_table(\"order_items\", conn_retail_db)\n",
    "df_products = ex.extract_table(\"products\", conn_retail_db)\n",
    "df_categories = ex.extract_table(\"categories\", conn_retail_db)\n",
    "df_departments = ex.extract_table(\"departments\", conn_retail_db)\n",
    "\n",
    "\n",
    "df_customers.head()"
   ]
  },
  {
   "cell_type": "code",
   "execution_count": 5,
   "metadata": {},
   "outputs": [],
   "source": [
    "from etl import load"
   ]
  },
  {
   "cell_type": "code",
   "execution_count": 6,
   "metadata": {},
   "outputs": [
    {
     "name": "stdout",
     "output_type": "stream",
     "text": [
      "(MySQLdb.IntegrityError) (1062, \"Duplicate entry '1' for key 'dimension_customer.PRIMARY'\")\n",
      "[SQL: INSERT INTO dimension_customer (customer_id, customer_fname, customer_lname, customer_email, customer_street, customer_city, customer_state, customer_zipcode) VALUES (%s, %s, %s, %s, %s, %s, %s, %s)]\n",
      "[parameters: [(1, 'Richard', 'Hernandez', 'XXXXXXXXX', '6303 Heather Plaza', 'Brownsville', 'TX', '78521'), (2, 'Mary', 'Barrett', 'XXXXXXXXX', '9526 Noble Embers Ridge', 'Littleton', 'CO', '80126'), (3, 'Ann', 'Smith', 'XXXXXXXXX', '3422 Blue Pioneer Bend', 'Caguas', 'PR', '00725'), (4, 'Mary', 'Jones', 'XXXXXXXXX', '8324 Little Common', 'San Marcos', 'CA', '92069'), (5, 'Robert', 'Hudson', 'XXXXXXXXX', '10 Crystal River Mall ', 'Caguas', 'PR', '00725'), (6, 'Mary', 'Smith', 'XXXXXXXXX', '3151 Sleepy Quail Promenade', 'Passaic', 'NJ', '07055'), (7, 'Melissa', 'Wilcox', 'XXXXXXXXX', '9453 High Concession', 'Caguas', 'PR', '00725'), (8, 'Megan', 'Smith', 'XXXXXXXXX', '3047 Foggy Forest Plaza', 'Lawrence', 'MA', '01841')  ... displaying 10 of 12435 total bound parameter sets ...  (12434, 'Mary', 'Mills', 'XXXXXXXXX', '9720 Colonial Parade', 'Caguas', 'PR', '00725'), (12435, 'Laura', 'Horton', 'XXXXXXXXX', '5736 Honey Downs', 'Summerville', 'SC', '29483')]]\n",
      "(Background on this error at: https://sqlalche.me/e/20/gkpj)\n"
     ]
    }
   ],
   "source": [
    "load.load_dw_retail('dimension_customer',conn_dw_retail,df_customers.drop('customer_password', axis=1))"
   ]
  },
  {
   "cell_type": "code",
   "execution_count": 7,
   "metadata": {},
   "outputs": [
    {
     "name": "stdout",
     "output_type": "stream",
     "text": [
      "(MySQLdb.IntegrityError) (1062, \"Duplicate entry '2' for key 'dimension_department.PRIMARY'\")\n",
      "[SQL: INSERT INTO dimension_department (department_id, department_name) VALUES (%s, %s)]\n",
      "[parameters: [(2, 'Fitness'), (3, 'Footwear'), (4, 'Apparel'), (5, 'Golf'), (6, 'Outdoors'), (7, 'Fan Shop')]]\n",
      "(Background on this error at: https://sqlalche.me/e/20/gkpj)\n"
     ]
    }
   ],
   "source": [
    "load.load_dw_retail('dimension_department',conn_dw_retail,df_departments)"
   ]
  },
  {
   "cell_type": "code",
   "execution_count": 8,
   "metadata": {},
   "outputs": [
    {
     "name": "stdout",
     "output_type": "stream",
     "text": [
      "(MySQLdb.IntegrityError) (1452, 'Cannot add or update a child row: a foreign key constraint fails (`dw_retail`.`dimension_category`, CONSTRAINT `dimension_category_ibfk_1` FOREIGN KEY (`category_department_id`) REFERENCES `dimension_department` (`department_id`))')\n",
      "[SQL: INSERT INTO dimension_category (category_id, category_department_id, category_name) VALUES (%s, %s, %s)]\n",
      "[parameters: [(1, 2, 'Football'), (2, 2, 'Soccer'), (3, 2, 'Baseball & Softball'), (4, 2, 'Basketball'), (5, 2, 'Lacrosse'), (6, 2, 'Tennis & Racquet'), (7, 2, 'Hockey'), (8, 2, 'More Sports')  ... displaying 10 of 58 total bound parameter sets ...  (57, 8, 'MLB Players'), (58, 8, 'NFL Players')]]\n",
      "(Background on this error at: https://sqlalche.me/e/20/gkpj)\n"
     ]
    }
   ],
   "source": [
    "load.load_dw_retail('dimension_category',conn_dw_retail,df_categories)"
   ]
  },
  {
   "cell_type": "code",
   "execution_count": 14,
   "metadata": {},
   "outputs": [
    {
     "name": "stdout",
     "output_type": "stream",
     "text": [
      "(MySQLdb.IntegrityError) (1452, 'Cannot add or update a child row: a foreign key constraint fails (`dw_retail`.`dimension_product`, CONSTRAINT `dimension_product_ibfk_1` FOREIGN KEY (`product_category_id`) REFERENCES `dimension_category` (`category_id`))')\n",
      "[SQL: INSERT INTO dimension_product (product_id, product_category_id, product_name, product_description, product_price, product_image) VALUES (%s, %s, %s, %s, %s, %s)]\n",
      "[parameters: [(1, 2, 'Quest Q64 10 FT. x 10 FT. Slant Leg Instant U', '', 59.98, 'http://images.acmesports.sports/Quest+Q64+10+FT.+x+10+FT.+Slant+Leg+Instant+Up+Canopy'), (2, 2, \"Under Armour Men's Highlight MC Football Clea\", '', 129.99, 'http://images.acmesports.sports/Under+Armour+Men%27s+Highlight+MC+Football+Cleat'), (3, 2, \"Under Armour Men's Renegade D Mid Football Cl\", '', 89.99, 'http://images.acmesports.sports/Under+Armour+Men%27s+Renegade+D+Mid+Football+Cleat'), (4, 2, \"Under Armour Men's Renegade D Mid Football Cl\", '', 89.99, 'http://images.acmesports.sports/Under+Armour+Men%27s+Renegade+D+Mid+Football+Cleat'), (5, 2, 'Riddell Youth Revolution Speed Custom Footbal', '', 199.99, 'http://images.acmesports.sports/Riddell+Youth+Revolution+Speed+Custom+Football+Helmet'), (6, 2, \"Jordan Men's VI Retro TD Football Cleat\", '', 134.99, 'http://images.acmesports.sports/Jordan+Men%27s+VI+Retro+TD+Football+Cleat'), (7, 2, 'Schutt Youth Recruit Hybrid Custom Football H', '', 99.99, 'http://images.acmesports.sports/Schutt+Youth+Recruit+Hybrid+Custom+Football+Helmet+2014'), (8, 2, \"Nike Men's Vapor Carbon Elite TD Football Cle\", '', 129.99, 'http://images.acmesports.sports/Nike+Men%27s+Vapor+Carbon+Elite+TD+Football+Cleat')  ... displaying 10 of 1345 total bound parameter sets ...  (1344, 59, \"Nike Men's Home Game Jersey St. Louis Rams Aa\", '', 100.0, 'http://images.acmesports.sports/Nike+Men%27s+Home+Game+Jersey+St.+Louis+Rams+Aaron+Donald+%2399'), (1345, 59, \"Nike Men's Home Game Jersey St. Louis Rams Gr\", '', 100.0, 'http://images.acmesports.sports/Nike+Men%27s+Home+Game+Jersey+St.+Louis+Rams+Greg+Robinson...')]]\n",
      "(Background on this error at: https://sqlalche.me/e/20/gkpj)\n"
     ]
    }
   ],
   "source": [
    "load.load_dw_retail('dimension_product',conn_dw_retail,df_products)"
   ]
  }
 ],
 "metadata": {
  "kernelspec": {
   "display_name": "Python 3 (ipykernel)",
   "language": "python",
   "name": "python3"
  },
  "language_info": {
   "codemirror_mode": {
    "name": "ipython",
    "version": 3
   },
   "file_extension": ".py",
   "mimetype": "text/x-python",
   "name": "python",
   "nbconvert_exporter": "python",
   "pygments_lexer": "ipython3",
   "version": "3.10.13"
  }
 },
 "nbformat": 4,
 "nbformat_minor": 2
}
