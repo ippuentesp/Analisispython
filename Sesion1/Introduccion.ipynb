{
 "cells": [
  {
   "cell_type": "code",
   "execution_count": 1,
   "metadata": {},
   "outputs": [
    {
     "name": "stdout",
     "output_type": "stream",
     "text": [
      "Hola mundo\n"
     ]
    }
   ],
   "source": [
    "print(\"Hola mundo\")"
   ]
  },
  {
   "cell_type": "markdown",
   "metadata": {},
   "source": [
    "## Identacion"
   ]
  },
  {
   "cell_type": "code",
   "execution_count": null,
   "metadata": {},
   "outputs": [],
   "source": [
    "variable = 1\n",
    "\n",
    "if variable == 5:\n",
    "    code1\n",
    "else:\n",
    "    otro"
   ]
  },
  {
   "cell_type": "code",
   "execution_count": 2,
   "metadata": {},
   "outputs": [
    {
     "name": "stdout",
     "output_type": "stream",
     "text": [
      "<class 'str'>\n"
     ]
    }
   ],
   "source": [
    "nombre= 'Ingrid'\n",
    "es_estudiante = True\n",
    "edad = 30\n",
    "altura=1.6\n",
    "\n",
    "print(type(nombre))\n"
   ]
  },
  {
   "cell_type": "markdown",
   "metadata": {},
   "source": [
    "## Tipo de datos  - Listas"
   ]
  },
  {
   "cell_type": "code",
   "execution_count": 3,
   "metadata": {},
   "outputs": [
    {
     "name": "stdout",
     "output_type": "stream",
     "text": [
      "[1, 2, ['hello', 1.3], 3]\n"
     ]
    }
   ],
   "source": [
    "Lista_1 =[]\n",
    "Lista_2 =[1,2,3,4,5]\n",
    "Lista_3 =[\"apple\",\"hello\",\"ok\"]\n",
    "Lista_4 =[1,2,\"ok,1.2\"]\n",
    "\n",
    "#Lista anidada\n",
    "Lista_5 =[1,2,[\"hello\", 1.3],3]\n",
    "print (Lista_5)"
   ]
  },
  {
   "cell_type": "code",
   "execution_count": 5,
   "metadata": {},
   "outputs": [
    {
     "name": "stdout",
     "output_type": "stream",
     "text": [
      "['c', 'd']\n"
     ]
    }
   ],
   "source": [
    "lista = ['a','b','c',\"d\",\"e\",\"r\"]\n",
    "\n",
    "print(lista[2:4])"
   ]
  },
  {
   "cell_type": "markdown",
   "metadata": {},
   "source": [
    "### Diccionario"
   ]
  },
  {
   "cell_type": "code",
   "execution_count": 7,
   "metadata": {},
   "outputs": [
    {
     "name": "stdout",
     "output_type": "stream",
     "text": [
      "Ingrid\n",
      "24\n"
     ]
    }
   ],
   "source": [
    "dic = {1:\"Juan\",2:\"ok\"}\n",
    "\n",
    "dic2 = {\"nombre\":\"Ingrid\", \"edad\":24,\"Pais\":\"CO\"}\n",
    "print(dic2[\"nombre\"])\n",
    "print(dic2.get(\"edad\"))"
   ]
  },
  {
   "cell_type": "code",
   "execution_count": 9,
   "metadata": {},
   "outputs": [
    {
     "name": "stdout",
     "output_type": "stream",
     "text": [
      "a\n",
      "b\n",
      "c\n",
      "d\n",
      "e\n",
      "r\n"
     ]
    }
   ],
   "source": [
    "tupla = ['a','b','c',\"d\",\"e\",\"r\"]\n",
    "\n",
    "for item in tupla:\n",
    "    print(item)"
   ]
  },
  {
   "cell_type": "code",
   "execution_count": null,
   "metadata": {},
   "outputs": [],
   "source": [
    "for dic2, valor in "
   ]
  },
  {
   "cell_type": "code",
   "execution_count": null,
   "metadata": {},
   "outputs": [],
   "source": []
  },
  {
   "cell_type": "markdown",
   "metadata": {},
   "source": [
    "## Control de flujo"
   ]
  },
  {
   "cell_type": "markdown",
   "metadata": {},
   "source": []
  }
 ],
 "metadata": {
  "kernelspec": {
   "display_name": "Python 3 (ipykernel)",
   "language": "python",
   "name": "python3"
  }
 },
 "nbformat": 4,
 "nbformat_minor": 2
}
